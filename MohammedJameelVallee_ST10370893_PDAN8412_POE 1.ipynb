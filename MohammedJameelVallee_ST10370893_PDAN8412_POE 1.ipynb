{
 "cells": [
  {
   "cell_type": "markdown",
   "id": "33d12e94",
   "metadata": {},
   "source": [
    "# Predicting Sentiment Analysis with Recurrent Neural Networks (RNN) and Long Short-Term Memory (LSTM)"
   ]
  },
  {
   "cell_type": "markdown",
   "id": "a73a73e7",
   "metadata": {},
   "source": [
    "## Introduction\n",
    "In this analysis, we aim to utilize the Sentiment140 dataset to predict sentiment using Recurrent Neural Networks (RNN) and Long Short-Term Memory (LSTM) networks. This dataset comprises tweets categorized into sentiments: 0 for negative, 2 for neutral, and 4 for positive. By employing RNN and LSTM models, we intend to construct a robust sentiment classification system that can automatically categorize text data into these sentiment classes. Through data preprocessing, tokenization, embedding, and neural network architecture construction, we will demonstrate the effective application of deep learning techniques to decode sentiments conveyed in digital communication."
   ]
  },
  {
   "cell_type": "markdown",
   "id": "95b186d7",
   "metadata": {},
   "source": [
    "## Dataset Source  \n",
    "The dataset we will be using comes from Kaggle and can be found at https://www.kaggle.com/datasets/kazanova/sentiment140\n",
    "It is a widely-used resource for sentiment analysis in natural language processing (NLP) tasks. This dataset comprises a collection of tweets and associated sentiment labels, making it valuable for sentiment classification and text analysis. The dataset consists of 1.6 million tweets, each labeled with a sentiment score indicating whether the tweet expresses a negative, neutral, or positive sentiment.\n",
    "\n",
    "The dataset contains the following columns:\n",
    "\n",
    "target: This column holds the sentiment label, where '0' typically represents a negative sentiment, '2' corresponds to a neutral         sentiment, and '4' signifies a positive sentiment. These numerical labels categorize the sentiment expressed in each   \n",
    "        tweet.\n",
    "\n",
    "ids: This column contains unique identification numbers assigned to each tweet. These IDs are used for tracking and referencing  \n",
    "     specific tweets but do not carry any inherent meaning related to sentiment analysis.\n",
    "\n",
    "date: The 'date' column records the timestamp of each tweet, indicating when the tweet was posted. This information is valuable \n",
    "      for analyzing trends and temporal aspects of sentiment.\n",
    "\n",
    "flag: The 'flag' column often contains irrelevant data and is not commonly used for sentiment analysis. It may have been used to \n",
    "      tag or categorize tweets in the original dataset.\n",
    "\n",
    "user: This column typically contains the Twitter usernames (handles) of the users who posted the tweets. Like the 'flag' column, \n",
    "      it is not usually relevant to sentiment analysis.\n",
    "\n",
    "text: The 'text' column contains the actual text content of each tweet. This is the most critical part of the dataset for \n",
    "      sentiment analysis, as it contains the language and context expressing the sentiment that the models aim to classify.\n",
    "\n",
    "\n"
   ]
  },
  {
   "cell_type": "markdown",
   "id": "45b30d82",
   "metadata": {},
   "source": [
    "## Why is this dataset appropriate\n",
    "\n",
    "The Sentiment140 dataset is an ideal candidate for implementing Recurrent Neural Networks (RNNs) with Long Short-Term Memory (LSTM) in Spark for sentiment analysis. This dataset comprises Twitter data with sentiment labels, categorizing tweets as negative, neutral, or positive. Its suitability for LSTM-based analysis stems from its textual nature, making it well-suited for processing sequential data like text.\n",
    "\n",
    "Additionally, the dataset's substantial size (1.6 million entries) aligns with Spark's distributed computing capabilities, allowing for efficient data preprocessing, model training, and evaluation.  This dataset offers both labeled sentiment data and the tools within Spark to implement, train, and evaluate LSTM models effectively for sentiment prediction.\n"
   ]
  },
  {
   "cell_type": "markdown",
   "id": "19f7369c",
   "metadata": {},
   "source": [
    "## Analysis Plan\n",
    "To analyze this dataset, we will perform the following steps:\n",
    "\n",
    "1. Load and clean the data.\n",
    "\n",
    "2. Perform exploratory data analysis to understand the distribution of the variables and any  \n",
    "   duplicates or missing values.\n",
    "   \n",
    "3. Develop the LSTM model.\n",
    "\n",
    "5. Evaluate the performance of the model.\n",
    "\n",
    "6. Display the model results graphically.\n",
    "\n",
    "7. Recommend improvements to increase model accuracy.\n",
    "\n",
    "We will use Pyspark as well as Python's extensive library for cleaning the data, developing the model and displaying the results graphically\n"
   ]
  },
  {
   "cell_type": "markdown",
   "id": "3c5dc6f4",
   "metadata": {},
   "source": [
    "### Loading and Analyzing the Data"
   ]
  },
  {
   "cell_type": "code",
   "execution_count": 1,
   "id": "a9bd4c1c",
   "metadata": {},
   "outputs": [
    {
     "name": "stdout",
     "output_type": "stream",
     "text": [
      "Requirement already satisfied: pyspark in c:\\users\\user-pc\\anaconda3\\lib\\site-packages (3.4.1)\n",
      "Requirement already satisfied: py4j==0.10.9.7 in c:\\users\\user-pc\\anaconda3\\lib\\site-packages (from pyspark) (0.10.9.7)\n"
     ]
    }
   ],
   "source": [
    "# Import necessary libraries\n",
    "!pip install pyspark\n",
    "from pyspark.sql import SparkSession\n",
    "from pyspark.sql.functions import col, when\n",
    "from pyspark.ml.feature import Tokenizer, Word2Vec\n",
    "import matplotlib.pyplot as plt\n",
    "import seaborn as sns\n",
    "import pandas as pd\n",
    "import numpy as np\n",
    "from sklearn.metrics import accuracy_score, confusion_matrix\n",
    "from keras.models import Sequential\n",
    "from keras.layers import Embedding, LSTM, Dense\n",
    "\n",
    "# Create a Spark session\n",
    "spark = SparkSession.builder.appName(\"SentimentAnalysis\").getOrCreate()\n",
    "\n",
    "# Load the dataset \n",
    "df_pyspark_full = spark.read.csv(\"sentiment140_dataset.csv\", header=False, inferSchema=True)\n",
    "\n",
    "# Set the desired sample size (e.g., 500,000)\n",
    "sample_size = 500000\n",
    "\n",
    "# Sample the dataset to get the desired number of rows\n",
    "df_pyspark = df_pyspark_full.sample(False, sample_size / df_pyspark_full.count(), seed=42)\n"
   ]
  },
  {
   "cell_type": "code",
   "execution_count": 2,
   "id": "3f9a61eb",
   "metadata": {},
   "outputs": [
    {
     "name": "stdout",
     "output_type": "stream",
     "text": [
      "+---+----------+--------------------+--------+--------------+--------------------+\n",
      "|_c0|       _c1|                 _c2|     _c3|           _c4|                 _c5|\n",
      "+---+----------+--------------------+--------+--------------+--------------------+\n",
      "|  0|1467811184|Mon Apr 06 22:19:...|NO_QUERY|       ElleCTF|my whole body fee...|\n",
      "|  0|1467811594|Mon Apr 06 22:20:...|NO_QUERY|          coZZ|@LOLTrish hey  lo...|\n",
      "|  0|1467812964|Mon Apr 06 22:20:...|NO_QUERY|lovesongwriter|Hollis' death sce...|\n",
      "|  0|1467813579|Mon Apr 06 22:20:...|NO_QUERY|    starkissed|@LettyA ahh ive a...|\n",
      "|  0|1467814438|Mon Apr 06 22:20:...|NO_QUERY| ChicagoCubbie|I hate when I hav...|\n",
      "|  0|1467814783|Mon Apr 06 22:20:...|NO_QUERY|   KatieAngell|Just going to cry...|\n",
      "|  0|1467814883|Mon Apr 06 22:20:...|NO_QUERY|         gagoo|im sad now  Miss....|\n",
      "|  0|1467815924|Mon Apr 06 22:21:...|NO_QUERY|         EmCDL|@alielayus I want...|\n",
      "|  0|1467817225|Mon Apr 06 22:21:...|NO_QUERY|   crosland_12|@cocomix04 ill te...|\n",
      "|  0|1467817502|Mon Apr 06 22:21:...|NO_QUERY|       Tmttq86|@fleurylis I don'...|\n",
      "|  0|1467818020|Mon Apr 06 22:21:...|NO_QUERY|    itsanimesh|really don't feel...|\n",
      "|  0|1467820206|Mon Apr 06 22:22:...|NO_QUERY|      peacoats|is strangely sad ...|\n",
      "|  0|1467820863|Mon Apr 06 22:22:...|NO_QUERY|        tautao|Broadband plan 'a...|\n",
      "|  0|1467821455|Mon Apr 06 22:22:...|NO_QUERY|    CiaraRenee|       I need a hug |\n",
      "|  0|1467822519|Mon Apr 06 22:22:...|NO_QUERY|       gzacher|Ugh....92 degrees...|\n",
      "|  0|1467823770|Mon Apr 06 22:23:...|NO_QUERY|   Henkuyinepu|Sadly though, I'v...|\n",
      "|  0|1467824199|Mon Apr 06 22:23:...|NO_QUERY|     adri_mane|@Starrbby too bad...|\n",
      "|  0|1467824664|Mon Apr 06 22:23:...|NO_QUERY|    a_mariepyt|Damm back to scho...|\n",
      "|  0|1467824967|Mon Apr 06 22:23:...|NO_QUERY|  playboybacon|Mo jobs, no money...|\n",
      "|  0|1467825863|Mon Apr 06 22:23:...|NO_QUERY|  BrookeAmanda|i really hate how...|\n",
      "+---+----------+--------------------+--------+--------------+--------------------+\n",
      "only showing top 20 rows\n",
      "\n"
     ]
    }
   ],
   "source": [
    "# Shoe the first 20 rows\n",
    "df_pyspark.show()"
   ]
  },
  {
   "cell_type": "code",
   "execution_count": 3,
   "id": "e0517a97",
   "metadata": {
    "scrolled": true
   },
   "outputs": [
    {
     "name": "stdout",
     "output_type": "stream",
     "text": [
      "root\n",
      " |-- _c0: integer (nullable = true)\n",
      " |-- _c1: long (nullable = true)\n",
      " |-- _c2: string (nullable = true)\n",
      " |-- _c3: string (nullable = true)\n",
      " |-- _c4: string (nullable = true)\n",
      " |-- _c5: string (nullable = true)\n",
      "\n"
     ]
    }
   ],
   "source": [
    "# Seeing the data types of each column\n",
    "df_pyspark.printSchema()"
   ]
  },
  {
   "cell_type": "code",
   "execution_count": 4,
   "id": "6e9cfff1",
   "metadata": {},
   "outputs": [
    {
     "name": "stdout",
     "output_type": "stream",
     "text": [
      "Number of rows: 501028\n"
     ]
    }
   ],
   "source": [
    "# Counting the rows\n",
    "row_count = df_pyspark.count()\n",
    "print(\"Number of rows:\", row_count)"
   ]
  },
  {
   "cell_type": "code",
   "execution_count": 5,
   "id": "60a05da5",
   "metadata": {},
   "outputs": [
    {
     "name": "stdout",
     "output_type": "stream",
     "text": [
      "Number of columns: 6\n"
     ]
    }
   ],
   "source": [
    "# Counting the columns\n",
    "column_count = len(df_pyspark.columns)\n",
    "print(\"Number of columns:\", column_count)"
   ]
  },
  {
   "cell_type": "markdown",
   "id": "3f1d8579",
   "metadata": {},
   "source": [
    "As can be seen from above, we took a subset of 500 000 entries out of the 1 600 000 data entries to ensure efficient computing. From this subset,there are 501 028 rows and 6 columns, namely: '_c0', '_c1', '_c2', '_c3', '_c4' and '_c5'. These column names are a result from using Pyspark, however we will change them later\n"
   ]
  },
  {
   "cell_type": "markdown",
   "id": "546eeda9",
   "metadata": {},
   "source": [
    "### Data Cleaning"
   ]
  },
  {
   "cell_type": "markdown",
   "id": "c7790d14",
   "metadata": {},
   "source": [
    "To develop our model effectively, we need to get rid of any columns not needed for our analysis, in this case, '_c0' and '_c5' is all we need"
   ]
  },
  {
   "cell_type": "code",
   "execution_count": 6,
   "id": "7fc254fb",
   "metadata": {},
   "outputs": [],
   "source": [
    "# dropping Unnecessary columns\n",
    "df_pyspark = df_pyspark.select(\"_c0\", \"_c5\")\n"
   ]
  },
  {
   "cell_type": "code",
   "execution_count": 7,
   "id": "03f0c744",
   "metadata": {
    "scrolled": false
   },
   "outputs": [
    {
     "name": "stdout",
     "output_type": "stream",
     "text": [
      "+---+--------------------+\n",
      "|_c0|                 _c5|\n",
      "+---+--------------------+\n",
      "|  0|my whole body fee...|\n",
      "|  0|@LOLTrish hey  lo...|\n",
      "|  0|Hollis' death sce...|\n",
      "|  0|@LettyA ahh ive a...|\n",
      "|  0|I hate when I hav...|\n",
      "|  0|Just going to cry...|\n",
      "|  0|im sad now  Miss....|\n",
      "|  0|@alielayus I want...|\n",
      "|  0|@cocomix04 ill te...|\n",
      "|  0|@fleurylis I don'...|\n",
      "|  0|really don't feel...|\n",
      "|  0|is strangely sad ...|\n",
      "|  0|Broadband plan 'a...|\n",
      "|  0|       I need a hug |\n",
      "|  0|Ugh....92 degrees...|\n",
      "|  0|Sadly though, I'v...|\n",
      "|  0|@Starrbby too bad...|\n",
      "|  0|Damm back to scho...|\n",
      "|  0|Mo jobs, no money...|\n",
      "|  0|i really hate how...|\n",
      "+---+--------------------+\n",
      "only showing top 20 rows\n",
      "\n"
     ]
    }
   ],
   "source": [
    "# Checking new Dataset with the 2 remaining column\n",
    "df_pyspark.show()"
   ]
  },
  {
   "cell_type": "markdown",
   "id": "32c8616a",
   "metadata": {},
   "source": [
    "For simplicity's sake, let us rename the remaining two columns\n"
   ]
  },
  {
   "cell_type": "code",
   "execution_count": 8,
   "id": "8a46efac",
   "metadata": {},
   "outputs": [],
   "source": [
    "#renaming columns\n",
    "\n",
    "# Rename column c0 to 'label'\n",
    "df_pyspark = df_pyspark.withColumnRenamed(\"_c0\", \"target\")\n",
    "\n",
    "# Rename column c1 to 'feature1'\n",
    "df_pyspark = df_pyspark.withColumnRenamed(\"_c5\", \"text\")\n"
   ]
  },
  {
   "cell_type": "code",
   "execution_count": 9,
   "id": "724439e1",
   "metadata": {},
   "outputs": [
    {
     "name": "stdout",
     "output_type": "stream",
     "text": [
      "+------+--------------------+\n",
      "|target|                text|\n",
      "+------+--------------------+\n",
      "|     0|my whole body fee...|\n",
      "|     0|@LOLTrish hey  lo...|\n",
      "|     0|Hollis' death sce...|\n",
      "|     0|@LettyA ahh ive a...|\n",
      "|     0|I hate when I hav...|\n",
      "|     0|Just going to cry...|\n",
      "|     0|im sad now  Miss....|\n",
      "|     0|@alielayus I want...|\n",
      "|     0|@cocomix04 ill te...|\n",
      "|     0|@fleurylis I don'...|\n",
      "|     0|really don't feel...|\n",
      "|     0|is strangely sad ...|\n",
      "|     0|Broadband plan 'a...|\n",
      "|     0|       I need a hug |\n",
      "|     0|Ugh....92 degrees...|\n",
      "|     0|Sadly though, I'v...|\n",
      "|     0|@Starrbby too bad...|\n",
      "|     0|Damm back to scho...|\n",
      "|     0|Mo jobs, no money...|\n",
      "|     0|i really hate how...|\n",
      "+------+--------------------+\n",
      "only showing top 20 rows\n",
      "\n",
      "root\n",
      " |-- target: integer (nullable = true)\n",
      " |-- text: string (nullable = true)\n",
      "\n"
     ]
    }
   ],
   "source": [
    "# Seeing the dataset with the newly renamed columns\n",
    "df_pyspark.show()\n",
    "\n",
    "df_pyspark.printSchema()\n"
   ]
  },
  {
   "cell_type": "markdown",
   "id": "20ab4ddc",
   "metadata": {},
   "source": [
    "Now let's drop any missing values and duplicates"
   ]
  },
  {
   "cell_type": "code",
   "execution_count": 10,
   "id": "1dc7399c",
   "metadata": {},
   "outputs": [],
   "source": [
    "# Drop rows with null values in any column\n",
    "df_pyspark = df_pyspark.na.drop()\n",
    "\n",
    "# Drop duplicate rows in the entire DataFrame\n",
    "df_pyspark = df_pyspark.dropDuplicates()"
   ]
  },
  {
   "cell_type": "code",
   "execution_count": 11,
   "id": "576a0b0c",
   "metadata": {},
   "outputs": [
    {
     "name": "stdout",
     "output_type": "stream",
     "text": [
      "Number of rows: 497890\n"
     ]
    }
   ],
   "source": [
    "# Checking the new number of rows\n",
    "row_count = df_pyspark.count()\n",
    "print(\"Number of rows:\", row_count)"
   ]
  },
  {
   "cell_type": "markdown",
   "id": "dace1047",
   "metadata": {},
   "source": [
    "As we can see, after removing all null values and duplicates, our number of rows have changed to 497 890"
   ]
  },
  {
   "cell_type": "markdown",
   "id": "a960615f",
   "metadata": {},
   "source": [
    "##  Long Short-term Memory model (LSTM)"
   ]
  },
  {
   "cell_type": "markdown",
   "id": "7d895d8f",
   "metadata": {},
   "source": [
    "### Developing the model"
   ]
  },
  {
   "cell_type": "code",
   "execution_count": 12,
   "id": "b24a4e12",
   "metadata": {},
   "outputs": [],
   "source": [
    "# Installing more libraries\n",
    "from pyspark.sql import SparkSession\n",
    "from pyspark.sql.functions import col, when\n",
    "import matplotlib.pyplot as plt\n",
    "import seaborn as sns\n",
    "import numpy as np\n",
    "from sklearn.metrics import accuracy_score, confusion_matrix\n",
    "from keras.models import Sequential\n",
    "from keras.layers import Embedding, LSTM, Dense\n",
    "from keras.preprocessing.text import Tokenizer\n",
    "from keras.preprocessing.sequence import pad_sequences\n",
    "from keras.callbacks import EarlyStopping"
   ]
  },
  {
   "cell_type": "code",
   "execution_count": 13,
   "id": "c5892cf5",
   "metadata": {},
   "outputs": [],
   "source": [
    "# Convert PySpark DataFrame to Pandas for Keras preprocessing\n",
    "df_pandas = df_pyspark.toPandas()"
   ]
  },
  {
   "cell_type": "code",
   "execution_count": 14,
   "id": "ed5055c3",
   "metadata": {},
   "outputs": [],
   "source": [
    "# Tokenize text using Keras Tokenizer\n",
    "max_words = 10000  # Maximum number of words in the vocabulary\n",
    "max_sequence_length = 50  # Maximum sequence length for LSTM\n",
    "\n",
    "tokenizer = Tokenizer(num_words=max_words)\n",
    "tokenizer.fit_on_texts(df_pandas['text'])\n",
    "\n",
    "sequences = tokenizer.texts_to_sequences(df_pandas['text'])\n",
    "X = pad_sequences(sequences, maxlen=max_sequence_length)\n",
    "y = np.array(df_pandas['target'])\n"
   ]
  },
  {
   "cell_type": "markdown",
   "id": "814f3351",
   "metadata": {},
   "source": [
    "As we can see from above, we've tokenised the data before developing the LTSM model and we've converted our PySpark dataset to Pandas. This will enable us to use the Keras library to develop our model."
   ]
  },
  {
   "cell_type": "markdown",
   "id": "1869b2ad",
   "metadata": {},
   "source": [
    "Now we can split our dataset into training and testing splits and develop our LSTM model. Note that early stopping will be incorporated into the model, which is a technique used to mitigate overfitting and to an extent, underfitting. this means that If the model's performance on the validation data starts to degrade, training is halted prematurely, preventing the model from fitting too closely to the training data"
   ]
  },
  {
   "cell_type": "code",
   "execution_count": 15,
   "id": "f8ff6d38",
   "metadata": {},
   "outputs": [],
   "source": [
    "# Split the dataset into training and testing sets\n",
    "train_size = int(0.8 * len(X))\n",
    "X_train, X_test = X[:train_size], X[train_size:]\n",
    "y_train, y_test = y[:train_size], y[train_size:]\n"
   ]
  },
  {
   "cell_type": "code",
   "execution_count": 16,
   "id": "47e19673",
   "metadata": {},
   "outputs": [],
   "source": [
    "# Define the Keras-based LSTM model\n",
    "model = Sequential()\n",
    "model.add(Embedding(input_dim=max_words, output_dim=100, input_length=max_sequence_length))\n",
    "model.add(LSTM(128))\n",
    "model.add(Dense(1, activation='sigmoid'))"
   ]
  },
  {
   "cell_type": "code",
   "execution_count": 17,
   "id": "ba3bf6bf",
   "metadata": {},
   "outputs": [],
   "source": [
    "# Compile the model\n",
    "model.compile(optimizer='adam', loss='binary_crossentropy', metrics=['accuracy'])\n",
    "\n",
    "# Define early stopping callback\n",
    "early_stopping = EarlyStopping(monitor='val_loss', patience=1, restore_best_weights=True)\n"
   ]
  },
  {
   "cell_type": "code",
   "execution_count": 18,
   "id": "c46160a1",
   "metadata": {
    "scrolled": false
   },
   "outputs": [
    {
     "name": "stdout",
     "output_type": "stream",
     "text": [
      "Epoch 1/3\n",
      "778/778 [==============================] - 220s 280ms/step - loss: -63.2419 - accuracy: 0.0015 - val_loss: -123.1140 - val_accuracy: 0.0249\n",
      "Epoch 2/3\n",
      "778/778 [==============================] - 210s 270ms/step - loss: -185.7626 - accuracy: 0.0567 - val_loss: -245.9381 - val_accuracy: 0.0776\n",
      "Epoch 3/3\n",
      "778/778 [==============================] - 206s 265ms/step - loss: -307.9781 - accuracy: 0.0994 - val_loss: -363.6351 - val_accuracy: 0.1103\n"
     ]
    }
   ],
   "source": [
    "# Train the model with early stopping\n",
    "history = model.fit(X_train, y_train, epochs=3, batch_size=512, validation_data=(X_test, y_test), callbacks=[early_stopping])\n"
   ]
  },
  {
   "cell_type": "code",
   "execution_count": 24,
   "id": "05442658",
   "metadata": {},
   "outputs": [
    {
     "name": "stdout",
     "output_type": "stream",
     "text": [
      "3112/3112 [==============================] - 27s 9ms/step\n"
     ]
    }
   ],
   "source": [
    "# Make predictions\n",
    "y_pred = model.predict(X_test)\n",
    "y_pred_binary = (y_pred > 0.5).astype(int)"
   ]
  },
  {
   "cell_type": "markdown",
   "id": "9aa1221e",
   "metadata": {},
   "source": [
    "The **provided training results** show the performance of the model during three training epochs:\n",
    "\n",
    "*Loss:* The loss is a measure of how well the model is fitting the training data. In this case, the loss values are negative, which is unusual. Typically, loss values should be positive. Negative loss values could indicate an issue with the model architecture or the way loss is calculated.\n",
    "\n",
    "*Accuracy:* The accuracy represents the proportion of correctly predicted labels in the training and validation datasets. The accuracy is quite low, especially considering that it's close to zero for the first epoch and increases gradually in the subsequent epochs. This suggests that the model is having difficulty learning from the data, and the accuracy is very low.\n",
    "\n",
    "*Validation Loss and Accuracy:* These metrics are measured on a separate validation dataset not seen during training and are used to assess how well the model generalizes to new, unseen data. Similar to the training loss and accuracy, the validation loss is negative, which is unusual. The validation accuracy also starts close to zero but increases in each epoch.\n",
    "\n",
    "Overall, these results indicate that there may be issues with the model architecture, the choice of loss function, or the preprocessing of the data, as the loss values are negative, and the accuracy is quite low. Further investigation and adjustments are needed to improve the model's performance."
   ]
  },
  {
   "cell_type": "markdown",
   "id": "be43c5fd",
   "metadata": {},
   "source": [
    "The **provided prediction** result indicates that the model successfully generated predictions for all 3,112 examples in the dataset, with the process taking approximately 27 seconds to complete. Each prediction corresponds to a specific input, and the model processed them sequentially in approximately 9 milliseconds per step. Now let's calculate the accuracy of our model."
   ]
  },
  {
   "cell_type": "code",
   "execution_count": 25,
   "id": "b753fd2b",
   "metadata": {},
   "outputs": [
    {
     "name": "stdout",
     "output_type": "stream",
     "text": [
      "Accuracy: 0.11034565867962803\n"
     ]
    }
   ],
   "source": [
    "# Calculate accuracy\n",
    "accuracy = accuracy_score(y_test, y_pred_binary)\n",
    "print(f\"Accuracy: {accuracy}\")"
   ]
  },
  {
   "cell_type": "markdown",
   "id": "0e3df2ac",
   "metadata": {},
   "source": [
    "The calculated accuracy score, represented as 0.110, implies that the LSTM model's performance in predicting sentiment labels on the test dataset is quite low. This score indicates that the model's predictions align with the true labels for only about 11.0% of the test data samples, suggesting that there is substantial room for improvement in the model's predictive capabilities."
   ]
  },
  {
   "cell_type": "markdown",
   "id": "9bcc335f",
   "metadata": {},
   "source": [
    "## Displaying results graphically "
   ]
  },
  {
   "cell_type": "code",
   "execution_count": 26,
   "id": "9e62be2b",
   "metadata": {},
   "outputs": [],
   "source": [
    "# Create a confusion matrix\n",
    "confusion = confusion_matrix(y_test, y_pred_binary)"
   ]
  },
  {
   "cell_type": "code",
   "execution_count": 27,
   "id": "47baa47f",
   "metadata": {},
   "outputs": [
    {
     "data": {
      "image/png": "[encoded data removed]",
      "text/plain": [
       "<Figure size 800x600 with 1 Axes>"
      ]
     },
     "metadata": {},
     "output_type": "display_data"
    }
   ],
   "source": [
    "# Plot the confusion matrix as a table\n",
    "plt.figure(figsize=(8, 6))\n",
    "sns.heatmap(confusion, annot=True, fmt='d', cmap='Blues', cbar=False)\n",
    "plt.xlabel('Predicted')\n",
    "plt.ylabel('Actual')\n",
    "plt.title('Confusion Matrix')\n",
    "plt.show()"
   ]
  },
  {
   "cell_type": "markdown",
   "id": "0a4f7917",
   "metadata": {},
   "source": [
    "The confusion matrix provides a detailed breakdown of a machine learning model's performance, including its accuracy and potential errors. In the context of class 0 and class 1 results, the confusion matrix helps assess how well the model distinguishes between these two classes. \n",
    "\n",
    "For example, it tells us that out of 10 988 actual class 0 instances, the model correctly predicted only 881 of them, which is essential for understanding the model's performance regarding negative sentiment (class 0). \n",
    "\n",
    "Similarly, it shows that for class 1, out of 48 871 predicted instances, 38 838 were correct, indicating that the model has room for improvement in correctly identifying positive sentiment (class 1)."
   ]
  },
  {
   "cell_type": "code",
   "execution_count": 28,
   "id": "0b6f5c1e",
   "metadata": {},
   "outputs": [
    {
     "data": {
      "image/png": "[encoded data removed]",
      "text/plain": [
       "<Figure size 1200x400 with 2 Axes>"
      ]
     },
     "metadata": {},
     "output_type": "display_data"
    }
   ],
   "source": [
    "# Plot training history (accuracy and loss)\n",
    "plt.figure(figsize=(12, 4))\n",
    "plt.subplot(1, 2, 1)\n",
    "plt.plot(history.history['accuracy'], label='Training Accuracy')\n",
    "plt.plot(history.history['val_accuracy'], label='Validation Accuracy')\n",
    "plt.title('Training and Validation Accuracy')\n",
    "plt.xlabel('Epoch')\n",
    "plt.ylabel('Accuracy')\n",
    "plt.legend()\n",
    "\n",
    "plt.subplot(1, 2, 2)\n",
    "plt.plot(history.history['loss'], label='Training Loss')\n",
    "plt.plot(history.history['val_loss'], label='Validation Loss')\n",
    "plt.title('Training and Validation Loss')\n",
    "plt.xlabel('Epoch')\n",
    "plt.ylabel('Loss')\n",
    "plt.legend()\n",
    "\n",
    "plt.show()"
   ]
  },
  {
   "cell_type": "markdown",
   "id": "0105fb74",
   "metadata": {},
   "source": [
    "Where both **training and validation accuracy keep increasing**, it suggests that the model is learning effectively from the training data. The rising training accuracy indicates that the model is becoming better at fitting the training data over time, while the increasing validation accuracy suggests that the model is generalizing well to unseen data. This alignment between training and validation accuracy is a positive sign as it indicates that your model is not overfitting, meaning it's not merely memorizing the training data but is also able to make accurate predictions on new, unseen data.\n",
    "\n",
    "A **decreasing training and validation loss** graph signifies that the model is improving its ability to make accurate predictions as training progresses. This indicates effective learning and convergence of the model. However, it's essential to monitor for potential overfitting, especially if the training loss continues to decrease significantly while the validation loss stabilizes or starts to increase.\n",
    "\n"
   ]
  },
  {
   "cell_type": "markdown",
   "id": "89859a8d",
   "metadata": {},
   "source": [
    "The LSTM models demonstrated reasonable accuracy in predicting sentiment, however there is always room for improvement. the project highlighted the potential of LSTM-based models for sentiment analysis tasks, especially when dealing with large and noisy datasets like Sentiment140."
   ]
  },
  {
   "cell_type": "markdown",
   "id": "7c88c086",
   "metadata": {},
   "source": [
    "### Model accuracy improvements\n",
    "\n",
    "Here are a few recommendations to improve model accuracy for this sentiment analysis:\n",
    "\n",
    "1. Hyperparameter Tuning: Given the dataset's size, hyperparameter tuning can be beneficial. Experiment with various LSTM units, learning rates, and dropout rates to optimize model performance for sentiment analysis. Fine-tuning these hyperparameters can help the model better capture sentiment nuances in tweets.\n",
    "\n",
    "2. Data Augmentation: While not directly applicable to textual data like Sentiment140, data preprocessing can enhance dataset quality. Tasks like cleaning, handling misspellings, removing special characters, and stemming/lemmatizing words can reduce vocabulary size and improve model training.\n",
    "\n",
    "3. Batch Size: Adjust batch size based on available memory and training time. Experiment with batch sizes to find the right balance for efficient training with the large Sentiment140 dataset.\n",
    "\n",
    "4. Use Pre-trained Embeddings: Consider using pre-trained word embeddings like Word2Vec or GloVe trained on extensive text corpora. These embeddings provide the model with a better understanding of word semantics, potentially improving performance.\n",
    "\n",
    "5. Advanced Architectures: Experiment with advanced architectures such as bidirectional LSTMs or attention mechanisms to capture complex dependencies and contextual information in tweets.\n",
    "\n",
    "6. Ensemble Learning: Explore ensemble learning methods by combining predictions from multiple LSTM models. Ensemble approaches can enhance sentiment prediction robustness."
   ]
  },
  {
   "cell_type": "markdown",
   "id": "0604aa3b",
   "metadata": {},
   "source": [
    "## Conclusion\n",
    "\n",
    "In conclusion, this project centered around sentiment analysis using the Sentiment140 dataset. The dataset was preprocessed, tokenized, and utilized to train Long Short-Term Memory (LSTM) models for sentiment classification. Various aspects, including model architecture, hyperparameter tuning, batch sizing, and early stopping, were explored to optimize model performance. The project provided valuable insights into the challenges of sentiment analysis on social media data and the significance of model fine-tuning.\n",
    "\n"
   ]
  },
  {
   "cell_type": "markdown",
   "id": "0ae0ee34",
   "metadata": {},
   "source": [
    "## (Extra steps)\n",
    "1. To successfully run this Jupyter notebook, ensure that you have PySpark installed as well as the relevant libraries.\n",
    "\n",
    "2.  To successfully run the code in the Jupyter notebook for analyzing the dataset, download the dataset and save it in a folder on yourcomputer, and set the working directory in the notebook to that folder. Make sure to run each code cell in order."
   ]
  }
 ],
 "metadata": {
  "kernelspec": {
   "display_name": "Python 3 (ipykernel)",
   "language": "python",
   "name": "python3"
  },
  "language_info": {
   "codemirror_mode": {
    "name": "ipython",
    "version": 3
   },
   "file_extension": ".py",
   "mimetype": "text/x-python",
   "name": "python",
   "nbconvert_exporter": "python",
   "pygments_lexer": "ipython3",
   "version": "3.10.9"
  }
 },
 "nbformat": 4,
 "nbformat_minor": 5
}
